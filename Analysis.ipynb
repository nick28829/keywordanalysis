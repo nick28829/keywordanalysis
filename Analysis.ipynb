{
 "cells": [
  {
   "cell_type": "code",
   "execution_count": 1,
   "id": "90753e0e",
   "metadata": {},
   "outputs": [],
   "source": [
    "tweet = \"\"\"Gratulation an Alexej Nawalny zum #Sacharovpreis für geistige Freiheit 😳. \n",
    "@navalny\n",
    " steht für den Kampf gegen Korruption und wirft auch ein Licht auf die mutige russische Zivilbevölkerung & jene Menschen, die jeden Tag für Gerechtigkeit & Demokratie einstehen.\n",
    " Wir haben intensiv gesprochen, Brücken gebaut, Gemeinsamkeiten gefunden. Und am Ende einen gemeinsamen Vorschlag vorgelegt für eine Reform- und Fortschrittskoalition, mit der wir das nächste Jahrzehnt für eine echte Erneuerung nutzen. Das Ergebnis: http://gruene.de/artikel/regierungsbildung\"\"\""
   ]
  },
  {
   "cell_type": "markdown",
   "id": "67822e17",
   "metadata": {},
   "source": [
    "Remove mentions & links"
   ]
  },
  {
   "cell_type": "code",
   "execution_count": 2,
   "id": "81110f3c",
   "metadata": {},
   "outputs": [],
   "source": [
    "import re\n",
    "mention = re.compile(r\"@\\w*\")\n",
    "link = re.compile(r\"https?://[\\w\\.-/]*\")"
   ]
  },
  {
   "cell_type": "code",
   "execution_count": 3,
   "id": "909a1dfd",
   "metadata": {},
   "outputs": [],
   "source": [
    "tweet = mention.sub(\" \", tweet)\n",
    "tweet = link.sub(\" \", tweet)"
   ]
  },
  {
   "cell_type": "code",
   "execution_count": 4,
   "id": "6e9092c4",
   "metadata": {},
   "outputs": [],
   "source": [
    "tweet = tweet.replace('#', '')\n",
    "tweet = tweet.replace('\\n', '')"
   ]
  },
  {
   "cell_type": "code",
   "execution_count": 5,
   "id": "135100b2",
   "metadata": {},
   "outputs": [
    {
     "data": {
      "text/plain": [
       "'Gratulation an Alexej Nawalny zum Sacharovpreis für geistige Freiheit 😳.   steht für den Kampf gegen Korruption und wirft auch ein Licht auf die mutige russische Zivilbevölkerung & jene Menschen, die jeden Tag für Gerechtigkeit & Demokratie einstehen. Wir haben intensiv gesprochen, Brücken gebaut, Gemeinsamkeiten gefunden. Und am Ende einen gemeinsamen Vorschlag vorgelegt für eine Reform- und Fortschrittskoalition, mit der wir das nächste Jahrzehnt für eine echte Erneuerung nutzen. Das Ergebnis:  '"
      ]
     },
     "execution_count": 5,
     "metadata": {},
     "output_type": "execute_result"
    }
   ],
   "source": [
    "tweet"
   ]
  },
  {
   "cell_type": "code",
   "execution_count": 6,
   "id": "bf7a4b12",
   "metadata": {},
   "outputs": [],
   "source": [
    "from demoji import replace_with_desc"
   ]
  },
  {
   "cell_type": "code",
   "execution_count": 7,
   "id": "0bce7581",
   "metadata": {},
   "outputs": [],
   "source": [
    "tweet = replace_with_desc(tweet)"
   ]
  },
  {
   "cell_type": "code",
   "execution_count": 8,
   "id": "fbdd72ef",
   "metadata": {
    "scrolled": true
   },
   "outputs": [
    {
     "data": {
      "text/plain": [
       "'Gratulation an Alexej Nawalny zum Sacharovpreis für geistige Freiheit :flushed face:.   steht für den Kampf gegen Korruption und wirft auch ein Licht auf die mutige russische Zivilbevölkerung & jene Menschen, die jeden Tag für Gerechtigkeit & Demokratie einstehen. Wir haben intensiv gesprochen, Brücken gebaut, Gemeinsamkeiten gefunden. Und am Ende einen gemeinsamen Vorschlag vorgelegt für eine Reform- und Fortschrittskoalition, mit der wir das nächste Jahrzehnt für eine echte Erneuerung nutzen. Das Ergebnis:  '"
      ]
     },
     "execution_count": 8,
     "metadata": {},
     "output_type": "execute_result"
    }
   ],
   "source": [
    "tweet"
   ]
  },
  {
   "cell_type": "markdown",
   "id": "3ed88d60",
   "metadata": {},
   "source": [
    "Lemmatization & stopword removal"
   ]
  },
  {
   "cell_type": "code",
   "execution_count": 9,
   "id": "317a200f",
   "metadata": {},
   "outputs": [],
   "source": [
    "import spacy"
   ]
  },
  {
   "cell_type": "code",
   "execution_count": 10,
   "id": "579f3532",
   "metadata": {},
   "outputs": [],
   "source": [
    "nlp = spacy.load(\"de_core_news_md\")"
   ]
  },
  {
   "cell_type": "code",
   "execution_count": 11,
   "id": "fe6f2cee",
   "metadata": {},
   "outputs": [],
   "source": [
    "doc = nlp(tweet)"
   ]
  },
  {
   "cell_type": "code",
   "execution_count": 26,
   "id": "c4016aa3",
   "metadata": {},
   "outputs": [],
   "source": [
    "tokens = [w for w in doc if not (w.is_punct or w.is_stop) and w.has_vector]"
   ]
  },
  {
   "cell_type": "code",
   "execution_count": 27,
   "id": "b8afcc5c",
   "metadata": {},
   "outputs": [
    {
     "data": {
      "text/plain": [
       "[Gratulation,\n",
       " Alexej,\n",
       " Nawalny,\n",
       " geistige,\n",
       " Freiheit,\n",
       " face,\n",
       " steht,\n",
       " Kampf,\n",
       " Korruption,\n",
       " wirft,\n",
       " Licht,\n",
       " mutige,\n",
       " russische,\n",
       " Zivilbevölkerung,\n",
       " Menschen,\n",
       " Gerechtigkeit,\n",
       " Demokratie,\n",
       " einstehen,\n",
       " intensiv,\n",
       " gesprochen,\n",
       " Brücken,\n",
       " gebaut,\n",
       " Gemeinsamkeiten,\n",
       " gefunden,\n",
       " gemeinsamen,\n",
       " Vorschlag,\n",
       " vorgelegt,\n",
       " Reform-,\n",
       " nächste,\n",
       " Jahrzehnt,\n",
       " echte,\n",
       " Erneuerung,\n",
       " nutzen,\n",
       " Ergebnis]"
      ]
     },
     "execution_count": 27,
     "metadata": {},
     "output_type": "execute_result"
    }
   ],
   "source": [
    "tokens"
   ]
  },
  {
   "cell_type": "code",
   "execution_count": 24,
   "id": "55145400",
   "metadata": {},
   "outputs": [],
   "source": [
    "keyword = 'Fortschritt'\n",
    "kw_vector = nlp(keyword)"
   ]
  },
  {
   "cell_type": "code",
   "execution_count": 29,
   "id": "d01ac91c",
   "metadata": {},
   "outputs": [
    {
     "name": "stdout",
     "output_type": "stream",
     "text": [
      "Reform- Fortschritt 0.590530216956261\n",
      "Erneuerung Fortschritt 0.5747643376923111\n"
     ]
    }
   ],
   "source": [
    "for word in tokens:\n",
    "    if kw_vector.similarity(word) >= 0.55:\n",
    "        print(word,kw_vector,kw_vector.similarity(word))"
   ]
  }
 ],
 "metadata": {
  "kernelspec": {
   "display_name": "Python 3",
   "language": "python",
   "name": "python3"
  },
  "language_info": {
   "codemirror_mode": {
    "name": "ipython",
    "version": 3
   },
   "file_extension": ".py",
   "mimetype": "text/x-python",
   "name": "python",
   "nbconvert_exporter": "python",
   "pygments_lexer": "ipython3",
   "version": "3.8.8"
  }
 },
 "nbformat": 4,
 "nbformat_minor": 5
}
